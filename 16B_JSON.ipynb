{
  "nbformat": 4,
  "nbformat_minor": 0,
  "metadata": {
    "colab": {
      "name": "16B JSON.ipynb",
      "provenance": [],
      "collapsed_sections": [],
      "toc_visible": true,
      "authorship_tag": "ABX9TyPAfbnz/pPJk6cN5puPYS3u",
      "include_colab_link": true
    },
    "kernelspec": {
      "name": "python3",
      "display_name": "Python 3"
    }
  },
  "cells": [
    {
      "cell_type": "markdown",
      "metadata": {
        "id": "view-in-github",
        "colab_type": "text"
      },
      "source": [
        "<a href=\"https://colab.research.google.com/github/yuhchian/AutomateBoringStuffPython/blob/master/16B_JSON.ipynb\" target=\"_parent\"><img src=\"https://colab.research.google.com/assets/colab-badge.svg\" alt=\"Open In Colab\"/></a>"
      ]
    },
    {
      "cell_type": "markdown",
      "metadata": {
        "id": "c4GqfkTg8wTg",
        "colab_type": "text"
      },
      "source": [
        "# AUTOMATE THE BORING STUFF WITH PYTHON \n",
        "\n",
        "## WORKING WITH JSON\n",
        "\n",
        "In this notebook, we are working with data that came with Colaboratory instead of the example files from the Book, because it's less trouble than if we try to import the files into the Colaboratory data folder."
      ]
    },
    {
      "cell_type": "markdown",
      "metadata": {
        "id": "Yus6BuF2ZaNS",
        "colab_type": "text"
      },
      "source": [
        "# Fundamentals"
      ]
    },
    {
      "cell_type": "markdown",
      "metadata": {
        "id": "kbXSwIue9OYr",
        "colab_type": "text"
      },
      "source": [
        "## \"What is JSON and why learn it?\"\n",
        "\n",
        "- JavaScript Object Notation. Pronounced \"Jason\" or \"Jay-Sawn\".\n",
        "- main way avaScript saves data, but you don't need to know JS to use JSON. \n",
        "\n",
        "Example\n",
        "```\n",
        "{\"name\": \"Zophie\", \"isCat\": true, \"miceCaught\": 0, \"napsTaken\": 37.5,\"felineIQ\": null}\n",
        "# looks like a dictionary, doesn't it...\n",
        "```\n",
        "\n",
        "- many websites offer JSON data via application programming interface (API)\n",
        "    - Facebook, Twitter, Yahoo, Google, Tumblr, Wikipedia, Flickr, Data.gov, Reddit, IMDb, Rotten Tomatoes, LinkedIn, and many other popular sites offer \n",
        "\n",
        "- Using APIs, you could write programs that do the following:\n",
        "    - Scrape raw data from websites. (more convenient scraping web pages)\n",
        "    - Auto download of new posts from social network accounts\n",
        "    - Furnish your personal databases by pulling data from IMDb, Rotten Tomatoes, and Wikipedia\n",
        "\n",
        "- More commonly seen alternative formats include:\n",
        "    - XML (eXtensible Markup Language)\n",
        "    - YML (Yet another Markup Language) \n",
        "    - INI (Initialization)"
      ]
    },
    {
      "cell_type": "markdown",
      "metadata": {
        "id": "UGZOGW-zZh74",
        "colab_type": "text"
      },
      "source": [
        "## \"What are the limitations of JSON in Python context?\"\n",
        "\n",
        "- Python uses the json module to handles JSON data\n",
        "- BUT, JSON can’t store every kind of Python value. It can contain values of only the following Python data types: \n",
        "    - strings\n",
        "    - integers-\n",
        "    - floats\n",
        "    - Booleans\n",
        "    - lists\n",
        "    - dictionaries\n",
        "    - NoneType. \n",
        "- JSON cannot represent Python-specific objects, such as \n",
        "    - File objects\n",
        "    - CSV reader or writer objects\n",
        "    - Regex objects\n",
        "    - Selenium WebElement objects\n",
        "    - etc."
      ]
    },
    {
      "cell_type": "markdown",
      "metadata": {
        "id": "iChFED90aVdA",
        "colab_type": "text"
      },
      "source": [
        "# Reading Data from JSON format"
      ]
    },
    {
      "cell_type": "markdown",
      "metadata": {
        "id": "-XRbOcRsaZr_",
        "colab_type": "text"
      },
      "source": [
        "## Reading using the loads function\n",
        "\n",
        "- note that after loading, the data becomes available as Python dictionary\n",
        "- note that the JSON strings will always be in double quotes \\\" \\\"\n",
        "- dictionaries are not sorted, so likewise the loaded JSON won't be sorted"
      ]
    },
    {
      "cell_type": "code",
      "metadata": {
        "id": "XY4mTMQAaek7",
        "colab_type": "code",
        "colab": {
          "base_uri": "https://localhost:8080/",
          "height": 122
        },
        "outputId": "c406a203-ea6a-4d37-e309-1e9dd889e6f8"
      },
      "source": [
        "stringOfJsonData = '{\"name\": \"Zophie\", \"isCat\": true, \"miceCaught\": 0, \"felineIQ\": null}'\n",
        "\n",
        "import json\n",
        "\n",
        "jsonDataAsPythonValue = json.loads(stringOfJsonData)\n",
        "\n",
        "print(jsonDataAsPythonValue)\n",
        "# you should get \n",
        "# {'isCat': True, 'miceCaught': 0, 'name': 'Zophie', 'felineIQ': None}\n",
        "\n",
        "print(\"\\n\", \"---- Separator ----\", \"\\n\")\n",
        "\n",
        "# Now, Let's try reading the big file that comes in the Colaboratory sample data\n",
        "# Note: you must use read() so that you get string instead of TextWrapper obj.\n",
        "json_file = open(\"/content/sample_data/anscombe.json\", \"r\").read()\n",
        "jsonFileAsPythonValue = json.loads(json_file)\n",
        "\n",
        "print(jsonFileAsPythonValue)"
      ],
      "execution_count": 4,
      "outputs": [
        {
          "output_type": "stream",
          "text": [
            "{'name': 'Zophie', 'isCat': True, 'miceCaught': 0, 'felineIQ': None}\n",
            "\n",
            " ---- Separator ---- \n",
            "\n",
            "[{'Series': 'I', 'X': 10.0, 'Y': 8.04}, {'Series': 'I', 'X': 8.0, 'Y': 6.95}, {'Series': 'I', 'X': 13.0, 'Y': 7.58}, {'Series': 'I', 'X': 9.0, 'Y': 8.81}, {'Series': 'I', 'X': 11.0, 'Y': 8.33}, {'Series': 'I', 'X': 14.0, 'Y': 9.96}, {'Series': 'I', 'X': 6.0, 'Y': 7.24}, {'Series': 'I', 'X': 4.0, 'Y': 4.26}, {'Series': 'I', 'X': 12.0, 'Y': 10.84}, {'Series': 'I', 'X': 7.0, 'Y': 4.81}, {'Series': 'I', 'X': 5.0, 'Y': 5.68}, {'Series': 'II', 'X': 10.0, 'Y': 9.14}, {'Series': 'II', 'X': 8.0, 'Y': 8.14}, {'Series': 'II', 'X': 13.0, 'Y': 8.74}, {'Series': 'II', 'X': 9.0, 'Y': 8.77}, {'Series': 'II', 'X': 11.0, 'Y': 9.26}, {'Series': 'II', 'X': 14.0, 'Y': 8.1}, {'Series': 'II', 'X': 6.0, 'Y': 6.13}, {'Series': 'II', 'X': 4.0, 'Y': 3.1}, {'Series': 'II', 'X': 12.0, 'Y': 9.13}, {'Series': 'II', 'X': 7.0, 'Y': 7.26}, {'Series': 'II', 'X': 5.0, 'Y': 4.74}, {'Series': 'III', 'X': 10.0, 'Y': 7.46}, {'Series': 'III', 'X': 8.0, 'Y': 6.77}, {'Series': 'III', 'X': 13.0, 'Y': 12.74}, {'Series': 'III', 'X': 9.0, 'Y': 7.11}, {'Series': 'III', 'X': 11.0, 'Y': 7.81}, {'Series': 'III', 'X': 14.0, 'Y': 8.84}, {'Series': 'III', 'X': 6.0, 'Y': 6.08}, {'Series': 'III', 'X': 4.0, 'Y': 5.39}, {'Series': 'III', 'X': 12.0, 'Y': 8.15}, {'Series': 'III', 'X': 7.0, 'Y': 6.42}, {'Series': 'III', 'X': 5.0, 'Y': 5.73}, {'Series': 'IV', 'X': 8.0, 'Y': 6.58}, {'Series': 'IV', 'X': 8.0, 'Y': 5.76}, {'Series': 'IV', 'X': 8.0, 'Y': 7.71}, {'Series': 'IV', 'X': 8.0, 'Y': 8.84}, {'Series': 'IV', 'X': 8.0, 'Y': 8.47}, {'Series': 'IV', 'X': 8.0, 'Y': 7.04}, {'Series': 'IV', 'X': 8.0, 'Y': 5.25}, {'Series': 'IV', 'X': 19.0, 'Y': 12.5}, {'Series': 'IV', 'X': 8.0, 'Y': 5.56}, {'Series': 'IV', 'X': 8.0, 'Y': 7.91}, {'Series': 'IV', 'X': 8.0, 'Y': 6.89}]\n"
          ],
          "name": "stdout"
        }
      ]
    },
    {
      "cell_type": "markdown",
      "metadata": {
        "id": "neu4NhWdcAQ3",
        "colab_type": "text"
      },
      "source": [
        "# Translating Python Data into JSON format"
      ]
    },
    {
      "cell_type": "markdown",
      "metadata": {
        "id": "77_aADynedUq",
        "colab_type": "text"
      },
      "source": [
        "## Converting Python dictionary into JSON format using json.dumps"
      ]
    },
    {
      "cell_type": "code",
      "metadata": {
        "id": "WGqMwPTUcarW",
        "colab_type": "code",
        "colab": {
          "base_uri": "https://localhost:8080/",
          "height": 35
        },
        "outputId": "173ad427-a311-465b-e6a0-36891e2b3941"
      },
      "source": [
        "pythonValue = {'isCat':True,'miceCaught':0,'name':'Zophie','felineIQ':None}\n",
        "\n",
        "import json     # not necessary if imported already\n",
        "\n",
        "stringOfJsonData = json.dumps(pythonValue)\n",
        "stringOfJsonData   # in Jupyter Notebook, you don't need to print the last line"
      ],
      "execution_count": 5,
      "outputs": [
        {
          "output_type": "execute_result",
          "data": {
            "application/vnd.google.colaboratory.intrinsic+json": {
              "type": "string"
            },
            "text/plain": [
              "'{\"isCat\": true, \"miceCaught\": 0, \"name\": \"Zophie\", \"felineIQ\": null}'"
            ]
          },
          "metadata": {
            "tags": []
          },
          "execution_count": 5
        }
      ]
    },
    {
      "cell_type": "markdown",
      "metadata": {
        "id": "bgQfJDyEeejU",
        "colab_type": "text"
      },
      "source": [
        "## Using json.dumps to make Python dictionaries easy to read"
      ]
    },
    {
      "cell_type": "code",
      "metadata": {
        "id": "DQlvzGYWc0jh",
        "colab_type": "code",
        "colab": {
          "base_uri": "https://localhost:8080/",
          "height": 137
        },
        "outputId": "e44da3f9-72fe-45f8-f2fc-d23cc2f80d19"
      },
      "source": [
        "# You can even use this to make a more readable format for dictionaries\n",
        "\n",
        "print(json.dumps(pythonValue, indent=4, sort_keys=True))\n",
        "\n",
        "json.dumps(pythonValue, indent=4, sort_keys=True)"
      ],
      "execution_count": 8,
      "outputs": [
        {
          "output_type": "stream",
          "text": [
            "{\n",
            "    \"felineIQ\": null,\n",
            "    \"isCat\": true,\n",
            "    \"miceCaught\": 0,\n",
            "    \"name\": \"Zophie\"\n",
            "}\n"
          ],
          "name": "stdout"
        },
        {
          "output_type": "execute_result",
          "data": {
            "application/vnd.google.colaboratory.intrinsic+json": {
              "type": "string"
            },
            "text/plain": [
              "'{\\n    \"felineIQ\": null,\\n    \"isCat\": true,\\n    \"miceCaught\": 0,\\n    \"name\": \"Zophie\"\\n}'"
            ]
          },
          "metadata": {
            "tags": []
          },
          "execution_count": 8
        }
      ]
    },
    {
      "cell_type": "markdown",
      "metadata": {
        "id": "ugmyLVO1ekH9",
        "colab_type": "text"
      },
      "source": [
        "# Project: Fetching Current Weather Data (Didn't manage to work on Colaboratory)"
      ]
    }
  ]
}