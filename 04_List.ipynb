{
  "nbformat": 4,
  "nbformat_minor": 0,
  "metadata": {
    "colab": {
      "name": "04 List.ipynb",
      "provenance": [],
      "collapsed_sections": [],
      "toc_visible": true,
      "authorship_tag": "ABX9TyONWyh7Zf9t22lsAMmff+3s",
      "include_colab_link": true
    },
    "kernelspec": {
      "name": "python3",
      "display_name": "Python 3"
    }
  },
  "cells": [
    {
      "cell_type": "markdown",
      "metadata": {
        "id": "view-in-github",
        "colab_type": "text"
      },
      "source": [
        "<a href=\"https://colab.research.google.com/github/yuhchian/AutomateBoringStuffPython/blob/master/04_List.ipynb\" target=\"_parent\"><img src=\"https://colab.research.google.com/assets/colab-badge.svg\" alt=\"Open In Colab\"/></a>"
      ]
    },
    {
      "cell_type": "markdown",
      "metadata": {
        "id": "c4GqfkTg8wTg",
        "colab_type": "text"
      },
      "source": [
        "# AUTOMATE THE BORING STUFF WITH PYTHON \n",
        "\n",
        "## LISTS"
      ]
    },
    {
      "cell_type": "code",
      "metadata": {
        "id": "6P6Luu2Ha7bi",
        "colab_type": "code",
        "colab": {}
      },
      "source": [
        "### **RUN THIS CELL FIRST SO THAT THE example_list IS LOADED** \n",
        "\n",
        "example_list = [\"First Item\", \"Second Item\", \"Third Item\", \"Last Item\"]"
      ],
      "execution_count": 1,
      "outputs": []
    },
    {
      "cell_type": "markdown",
      "metadata": {
        "id": "Yus6BuF2ZaNS",
        "colab_type": "text"
      },
      "source": [
        "# Recap of Python Basics"
      ]
    },
    {
      "cell_type": "markdown",
      "metadata": {
        "id": "kbXSwIue9OYr",
        "colab_type": "text"
      },
      "source": [
        "## \"What are some of the most basic data types built-in within Python?\"\n",
        "\n",
        "### Values\n",
        "- integers : 0, 1, 322, -27\n",
        "- floats : 0.0, 1.9, -49.001\n",
        "- boolean : True, False\n",
        "- None (note: this is not Zero)\n",
        "\n",
        "and also...\n",
        "- strings : \"a\", \"42\", \"$3.00 for two 'wugs' \""
      ]
    },
    {
      "cell_type": "markdown",
      "metadata": {
        "id": "0A8qXh2rmQBF",
        "colab_type": "text"
      },
      "source": [
        "# Lists and Creating them"
      ]
    },
    {
      "cell_type": "markdown",
      "metadata": {
        "id": "U7y6WZHHkvVy",
        "colab_type": "text"
      },
      "source": [
        "## How do we create a list?\""
      ]
    },
    {
      "cell_type": "code",
      "metadata": {
        "id": "YhGtk7Q0N7Kg",
        "colab_type": "code",
        "colab": {
          "base_uri": "https://localhost:8080/",
          "height": 34
        },
        "outputId": "f1d259b6-e435-409a-ac98-e29175875680"
      },
      "source": [
        "# arbitrarily ordered sequence of items\n",
        "\n",
        "# You can create list by start and ending with square brackets [ ]\n",
        "# and having items seperated by commas\n",
        "\n",
        "int_list = [3, 2, 10, -9]\n",
        "\n",
        "# Another way to create lists is to use the inbuilt list function\n",
        "another_list = list()   # but you need to put in other sequences or strings\n",
        "\n",
        "print(\"another_list is of the type\", type(another_list))"
      ],
      "execution_count": 2,
      "outputs": [
        {
          "output_type": "stream",
          "text": [
            "another_list is of the type <class 'list'>\n"
          ],
          "name": "stdout"
        }
      ]
    },
    {
      "cell_type": "markdown",
      "metadata": {
        "id": "odfgIkcDc3T6",
        "colab_type": "text"
      },
      "source": [
        "## What can be inside a list? "
      ]
    },
    {
      "cell_type": "code",
      "metadata": {
        "id": "3trqeBDec0vO",
        "colab_type": "code",
        "colab": {
          "base_uri": "https://localhost:8080/",
          "height": 34
        },
        "outputId": "d99b181e-4cf7-48fe-e98d-1bcce66e84f5"
      },
      "source": [
        "# Lists can be empty\n",
        "empty_list = []\n",
        "\n",
        "# or can contain any type of item, mixed types\n",
        "string_list = [\"Albert\", \"Charlie\", \"Benny\"]\n",
        "float_list = [1.1, 4.2, -5.9]\n",
        "bool_list = [True, False, True]\n",
        "mixed_list = [\"one\", 1.1, True, 2020]\n",
        "\n",
        "# or can even contain list of lists of list of... (\"Nested Lists\")\n",
        "list_list = [string_list, float_list, [\"abc\", [0, [5.5]]]]\n",
        "\n",
        "# A single value in a list is not equivalent to the same single value\n",
        "print(\"Saying [1] is equivalent to 1 is\", [1] == 1 )    # you will get false"
      ],
      "execution_count": 3,
      "outputs": [
        {
          "output_type": "stream",
          "text": [
            "Saying [1] is equivalent to 1 is False\n"
          ],
          "name": "stdout"
        }
      ]
    },
    {
      "cell_type": "markdown",
      "metadata": {
        "id": "-K003j5Tadn7",
        "colab_type": "text"
      },
      "source": [
        "## \"How do we know how many items there are inside a big list?\""
      ]
    },
    {
      "cell_type": "code",
      "metadata": {
        "id": "oCpZx8qVad7o",
        "colab_type": "code",
        "colab": {
          "base_uri": "https://localhost:8080/",
          "height": 51
        },
        "outputId": "ab27ec80-d963-4f30-e345-28e548fa18d3"
      },
      "source": [
        "# You can see how many items are inside by using the len (length) function\n",
        "\n",
        "print(\"Length of list is\", len(example_list))\n",
        "\n",
        "# However, even if a list in a list contains more item, nested items don't count\n",
        "\n",
        "nested_list = [\"one\", [\"two-a\", \"two-b\", \"two-c\"], \"three\"]\n",
        "\n",
        "print(\"Length of nested list is\", len(nested_list))\n",
        "\n",
        "# If you definitely must count those nested items, you need to build a \n",
        "# RECURSIVE function, which is beyond the scope of this chapter"
      ],
      "execution_count": 4,
      "outputs": [
        {
          "output_type": "stream",
          "text": [
            "Length of list is 4\n",
            "Length of nested list is 3\n"
          ],
          "name": "stdout"
        }
      ]
    },
    {
      "cell_type": "markdown",
      "metadata": {
        "id": "gQsijWrWmgsj",
        "colab_type": "text"
      },
      "source": [
        "# Reading value of elements in a list"
      ]
    },
    {
      "cell_type": "markdown",
      "metadata": {
        "id": "YlIuIw6flyZI",
        "colab_type": "text"
      },
      "source": [
        "## \"How do we access specific item or items of a list?\"\n",
        "\n",
        "Feel free to experiment by changing up the variable \"n\""
      ]
    },
    {
      "cell_type": "code",
      "metadata": {
        "id": "a16NxQOoRK1b",
        "colab_type": "code",
        "colab": {
          "base_uri": "https://localhost:8080/",
          "height": 34
        },
        "outputId": "0461669f-8965-411a-f633-c8396d636206"
      },
      "source": [
        "# We can get one specific value from the list by INDEXING\n",
        "# i.e. putting in the index in square brackets after the list\n",
        "# Index meaning whether it is the first, second or third item in the list\n",
        "# However, Computer science likes counting from 0, \n",
        "# whereas mathematicians like to count from 1\n",
        "# So, in Python, the index is always n-1\n",
        "n = 2    # the second item\n",
        "print(f\"Item number {n} is\", example_list[n-1])"
      ],
      "execution_count": 5,
      "outputs": [
        {
          "output_type": "stream",
          "text": [
            "Item number 2 is Second Item\n"
          ],
          "name": "stdout"
        }
      ]
    },
    {
      "cell_type": "code",
      "metadata": {
        "id": "eIL1PVSGYCb9",
        "colab_type": "code",
        "colab": {
          "base_uri": "https://localhost:8080/",
          "height": 198
        },
        "outputId": "2b0992c1-3b47-4f1a-a0b2-fd8439239ba1"
      },
      "source": [
        "# Index are always integers! All other types will cause errors.\n",
        "\n",
        "# For the following list:\n",
        "example_list = [\"First Item\", \"Second Item\", \"Third Item\", \"Last Item\"]\n",
        "\n",
        "print(example_list[1.0])\n"
      ],
      "execution_count": 6,
      "outputs": [
        {
          "output_type": "error",
          "ename": "TypeError",
          "evalue": "ignored",
          "traceback": [
            "\u001b[0;31m---------------------------------------------------------------------------\u001b[0m",
            "\u001b[0;31mTypeError\u001b[0m                                 Traceback (most recent call last)",
            "\u001b[0;32m<ipython-input-6-dc8b1b46e94c>\u001b[0m in \u001b[0;36m<module>\u001b[0;34m()\u001b[0m\n\u001b[1;32m      4\u001b[0m \u001b[0mexample_list\u001b[0m \u001b[0;34m=\u001b[0m \u001b[0;34m[\u001b[0m\u001b[0;34m\"First Item\"\u001b[0m\u001b[0;34m,\u001b[0m \u001b[0;34m\"Second Item\"\u001b[0m\u001b[0;34m,\u001b[0m \u001b[0;34m\"Third Item\"\u001b[0m\u001b[0;34m,\u001b[0m \u001b[0;34m\"Last Item\"\u001b[0m\u001b[0;34m]\u001b[0m\u001b[0;34m\u001b[0m\u001b[0;34m\u001b[0m\u001b[0m\n\u001b[1;32m      5\u001b[0m \u001b[0;34m\u001b[0m\u001b[0m\n\u001b[0;32m----> 6\u001b[0;31m \u001b[0mprint\u001b[0m\u001b[0;34m(\u001b[0m\u001b[0mexample_list\u001b[0m\u001b[0;34m[\u001b[0m\u001b[0;36m1.0\u001b[0m\u001b[0;34m]\u001b[0m\u001b[0;34m)\u001b[0m\u001b[0;34m\u001b[0m\u001b[0;34m\u001b[0m\u001b[0m\n\u001b[0m",
            "\u001b[0;31mTypeError\u001b[0m: list indices must be integers or slices, not float"
          ]
        }
      ]
    },
    {
      "cell_type": "code",
      "metadata": {
        "id": "ZsaWYd_qTSYX",
        "colab_type": "code",
        "colab": {
          "base_uri": "https://localhost:8080/",
          "height": 34
        },
        "outputId": "eabb1181-2dc9-402b-db67-3979678e6afa"
      },
      "source": [
        "# You don't necessarily have to put the list in a variable for it to work\n",
        "# You can just have the list \"raw\" in its square bracket form\n",
        "\n",
        "n = 3    # the third item\n",
        "\n",
        "print(f\"Item number {n} is\", \\\n",
        "      [\"First Item\", \"Second Item\", \"Third Item\", \"Last Item\"][n-1])"
      ],
      "execution_count": 8,
      "outputs": [
        {
          "output_type": "stream",
          "text": [
            "Item number 3 is Third Item\n"
          ],
          "name": "stdout"
        }
      ]
    },
    {
      "cell_type": "code",
      "metadata": {
        "id": "EuETubJkTUci",
        "colab_type": "code",
        "colab": {
          "base_uri": "https://localhost:8080/",
          "height": 51
        },
        "outputId": "9bfb93c1-58dc-43c2-d1f8-2698c70fe9ba"
      },
      "source": [
        "# You can get the n-th last item by using negative values for index\n",
        "# Take note that in this case, -1 is last, -2 is second last, \n",
        "# i.e. you don't have to worry about n-1 anymore\n",
        "\n",
        "n = -2    # the second item\n",
        "\n",
        "print(f\"Item number {-n} from the back is\", example_list[n])\n",
        "\n",
        "# The other way to do this is more troublesome\n",
        "\n",
        "n = len(example_list)    # get the number of items in the list\n",
        "\n",
        "print(f\"Item number {-n} from the back is\", example_list[n-1])"
      ],
      "execution_count": 24,
      "outputs": [
        {
          "output_type": "stream",
          "text": [
            "Item number 2 from the back is Last Item\n",
            "Item number -4 from the back is Last Item\n"
          ],
          "name": "stdout"
        }
      ]
    },
    {
      "cell_type": "code",
      "metadata": {
        "id": "on8NsHIeTe46",
        "colab_type": "code",
        "colab": {
          "base_uri": "https://localhost:8080/",
          "height": 34
        },
        "outputId": "3b9e5d7a-1966-4d25-fa27-028642cde8ea"
      },
      "source": [
        "# For the following list:\n",
        "\n",
        "example_list = [\"First Item\", \"Second Item\", \"Third Item\", \"Last Item\"]\n",
        "\n",
        "# You can even get multiple items by SLICING\n",
        "# You need to give the computer the indexes of both START and STOP points\n",
        "# which you put in the square brackets, seperated by a \":\" (Colon)\n",
        "# let's say I want the middle two items i.e. I don\"t want first and fourth items\n",
        "\n",
        "start = 1   # index 1 means start AT the second item\n",
        "\n",
        "stop = 3    # index 3 means stop BEFORE the fourth item\n",
        "\n",
        "print(example_list[start:stop])\n",
        "\n",
        "# Emphasis : the item at stop (fourth item) is excluded!\n",
        "\n",
        "# Emphasis : stop minus start equals number of items returned"
      ],
      "execution_count": 10,
      "outputs": [
        {
          "output_type": "stream",
          "text": [
            "['Second Item', 'Third Item']\n"
          ],
          "name": "stdout"
        }
      ]
    },
    {
      "cell_type": "code",
      "metadata": {
        "id": "kWEF_GKmVlfk",
        "colab_type": "code",
        "colab": {
          "base_uri": "https://localhost:8080/",
          "height": 102
        },
        "outputId": "914aeba1-4ebb-466e-eded-599ffe6fd75a"
      },
      "source": [
        "# For the following list:\n",
        "example_list = [\"First Item\", \"Second Item\", \"Third Item\", \"Last Item\"]\n",
        "\n",
        "# You can even slice and take every alternate value\n",
        "# let's say I want First and Third item, i.e. take 2 steps at a time\n",
        "\n",
        "print(example_list[0:4:2])\n",
        "\n",
        "# You include a second \":\" colon, and the third parameter is the step\n",
        "# 2 will give every two items, 3 will give every three items, etc\n",
        "# a negative value for step will give you items counting from the end\n",
        "\n",
        "print(example_list[::-2])\n",
        "\n",
        "# Note in the above example that you don't always need to put in all values \n",
        "# when slicing! the default is assumed as below if you omit them: \n",
        "# start = 0 (or number of items in list if you use negative steps)\n",
        "# stop = number of items in list (or 0 if you use negative steps)\n",
        "# skip = 1\n",
        "\n",
        "print(example_list[:1:-1])\n",
        "\n",
        "# The above way DOES NOT change example_list, it just returns you a view\n",
        "# You can make a permanent change to example_list by doing it with\n",
        "\n",
        "new_list = example_list[:]  # Note: the slice generates a new copy\n",
        "\n",
        "# If you don't slice, they will refer to the same data in the memory\n",
        "# See the part on REFERENCES in Automating the Boring Stuff\n",
        "\n",
        "print(\"New list:\", new_list)\n",
        "\n",
        "new_list.reverse()\n",
        "\n",
        "print(\"New list reversed\", new_list)"
      ],
      "execution_count": 27,
      "outputs": [
        {
          "output_type": "stream",
          "text": [
            "['First Item', 'Third Item']\n",
            "['Last Item', 'Second Item']\n",
            "['Last Item', 'Third Item']\n",
            "New list: ['First Item', 'Second Item', 'Third Item', 'Last Item']\n",
            "New list reversed ['Last Item', 'Third Item', 'Second Item', 'First Item']\n"
          ],
          "name": "stdout"
        }
      ]
    },
    {
      "cell_type": "markdown",
      "metadata": {
        "id": "zHacUiJJYabm",
        "colab_type": "text"
      },
      "source": [
        "## Strings are kinda like lists (when indexing and slicing)"
      ]
    },
    {
      "cell_type": "code",
      "metadata": {
        "id": "ko2RRhe4Yiks",
        "colab_type": "code",
        "colab": {
          "base_uri": "https://localhost:8080/",
          "height": 68
        },
        "outputId": "2f78071c-ee86-4119-f105-f8cb9aa8039b"
      },
      "source": [
        "# You can access letters (characters) in a string in the same way as lists\n",
        "\n",
        "word = \"supercalifragilistic\"\n",
        "\n",
        "last_char = word[len(word)-1]\n",
        "print(last_char)\n",
        "\n",
        "super = word[:5]\n",
        "print(super)\n",
        "\n",
        "word_reversed = word[::-1]\n",
        "print(word_reversed)\n",
        "\n",
        "# BUT while you can change items in a list, you can't do that for strings!\n",
        "# (we'll talk more about this later)"
      ],
      "execution_count": 12,
      "outputs": [
        {
          "output_type": "stream",
          "text": [
            "c\n",
            "super\n",
            "citsiligarfilacrepus\n"
          ],
          "name": "stdout"
        }
      ]
    },
    {
      "cell_type": "code",
      "metadata": {
        "id": "7pJFer_4mHbH",
        "colab_type": "code",
        "colab": {
          "base_uri": "https://localhost:8080/",
          "height": 68
        },
        "outputId": "1e3996aa-e2f5-4959-8de1-563b2392ad65"
      },
      "source": [
        "# However, strings are not lists, as seen below\n",
        "\n",
        "char_list = list(\"string\")\n",
        "\n",
        "print(\"String as a string: \", \"string\")\n",
        "print(\"Seperated into a list:\", char_list)\n",
        "\n",
        "# But you can join a list back into a string\n",
        "\n",
        "print(\"Joining back the list into a string: \", \"\".join(char_list))"
      ],
      "execution_count": 13,
      "outputs": [
        {
          "output_type": "stream",
          "text": [
            "String as a string:  string\n",
            "Seperated into a list: ['s', 't', 'r', 'i', 'n', 'g']\n",
            "Joining back the list into a string:  string\n"
          ],
          "name": "stdout"
        }
      ]
    },
    {
      "cell_type": "markdown",
      "metadata": {
        "colab_type": "text",
        "id": "456fmmVanQCa"
      },
      "source": [
        "## \"How do we loop once through all elements of a list?\"\n",
        "\n"
      ]
    },
    {
      "cell_type": "code",
      "metadata": {
        "id": "GSnzluQeXV-F",
        "colab_type": "code",
        "colab": {
          "base_uri": "https://localhost:8080/",
          "height": 153
        },
        "outputId": "5b928755-4aad-41e7-a8d6-a2abcf687b60"
      },
      "source": [
        "# For the following list:\n",
        "example_list = [\"First Item\", \"Second Item\", \"Third Item\", \"Last Item\"]\n",
        "\n",
        "# if you want to use the items in a list one by one\n",
        "# use the for loop\n",
        "\n",
        "for item in example_list:\n",
        "    print(item)\n",
        "\n",
        "print(\"\\n\") # Line Break\n",
        "\n",
        "# Combine with slicing if you want to select specific items in a pattern\n",
        "\n",
        "for item in example_list[1::2]:\n",
        "    print(item)"
      ],
      "execution_count": 14,
      "outputs": [
        {
          "output_type": "stream",
          "text": [
            "First Item\n",
            "Second Item\n",
            "Third Item\n",
            "Last Item\n",
            "\n",
            "\n",
            "Second Item\n",
            "Last Item\n"
          ],
          "name": "stdout"
        }
      ]
    },
    {
      "cell_type": "markdown",
      "metadata": {
        "id": "aGdSmCp0nJpn",
        "colab_type": "text"
      },
      "source": [
        "# Adding, Removing, or Changing contents of a list?"
      ]
    },
    {
      "cell_type": "markdown",
      "metadata": {
        "id": "B-psxG9PlmZ7",
        "colab_type": "text"
      },
      "source": [
        "## \"How do we add or remove item or items from a list?\"\n",
        "\n"
      ]
    },
    {
      "cell_type": "code",
      "metadata": {
        "id": "hzguMU7xq-XH",
        "colab_type": "code",
        "colab": {
          "base_uri": "https://localhost:8080/",
          "height": 34
        },
        "outputId": "d26c8dc7-e5a2-43bc-dd11-8ba121eef68d"
      },
      "source": [
        "# Changing an item by just index and assignment\n",
        "\n",
        "example_list[0] = \"First Item is Gone?\"\n",
        "\n",
        "print(example_list)"
      ],
      "execution_count": 15,
      "outputs": [
        {
          "output_type": "stream",
          "text": [
            "['First Item is Gone?', 'Second Item', 'Third Item', 'Last Item']\n"
          ],
          "name": "stdout"
        }
      ]
    },
    {
      "cell_type": "code",
      "metadata": {
        "id": "oir4_jUNXgr1",
        "colab_type": "code",
        "colab": {
          "base_uri": "https://localhost:8080/",
          "height": 34
        },
        "outputId": "4145d6e4-c880-4b0f-afe7-6ca6941a83b5"
      },
      "source": [
        "# Adding an item\n",
        "\n",
        "example_list.append(\"Extra Item\")\n",
        "\n",
        "print(example_list)"
      ],
      "execution_count": 16,
      "outputs": [
        {
          "output_type": "stream",
          "text": [
            "['First Item is Gone?', 'Second Item', 'Third Item', 'Last Item', 'Extra Item']\n"
          ],
          "name": "stdout"
        }
      ]
    },
    {
      "cell_type": "code",
      "metadata": {
        "id": "txOmZMoNi8eb",
        "colab_type": "code",
        "colab": {
          "base_uri": "https://localhost:8080/",
          "height": 34
        },
        "outputId": "e682d084-4999-452b-926b-9e5783da72fa"
      },
      "source": [
        "# Inserting an item\n",
        "\n",
        "example_list.insert(0, \"Item before First Item\")\n",
        "\n",
        "print(example_list)"
      ],
      "execution_count": 17,
      "outputs": [
        {
          "output_type": "stream",
          "text": [
            "['Item before First Item', 'First Item is Gone?', 'Second Item', 'Third Item', 'Last Item', 'Extra Item']\n"
          ],
          "name": "stdout"
        }
      ]
    },
    {
      "cell_type": "code",
      "metadata": {
        "id": "viK6WPQjjTO3",
        "colab_type": "code",
        "colab": {
          "base_uri": "https://localhost:8080/",
          "height": 266
        },
        "outputId": "188ac19a-20c9-4f28-a17f-3528aaaea6dd"
      },
      "source": [
        "# Removing an item by passing in the value of the item\n",
        "\n",
        "example_list.append(\"Last Item\")\n",
        "example_list.append(\"Last Item\")\n",
        "\n",
        "print(example_list)\n",
        "\n",
        "example_list.remove(\"Last Item\")        \n",
        "\n",
        "# Note! This removes only the first instance found\n",
        "\n",
        "print(example_list)\n",
        "\n",
        "# Running remove when the item doesn't exist raises an error\n",
        "\n",
        "example_list.remove(\"Last Item\")\n",
        "\n",
        "print(example_list)\n",
        "\n",
        "example_list.remove(\"Last Item\")\n",
        "\n",
        "print(example_list)\n",
        "\n",
        "example_list.remove(\"Last Item\")"
      ],
      "execution_count": 18,
      "outputs": [
        {
          "output_type": "stream",
          "text": [
            "['Item before First Item', 'First Item is Gone?', 'Second Item', 'Third Item', 'Last Item', 'Extra Item', 'Last Item', 'Last Item']\n",
            "['Item before First Item', 'First Item is Gone?', 'Second Item', 'Third Item', 'Extra Item', 'Last Item', 'Last Item']\n",
            "['Item before First Item', 'First Item is Gone?', 'Second Item', 'Third Item', 'Extra Item', 'Last Item']\n",
            "['Item before First Item', 'First Item is Gone?', 'Second Item', 'Third Item', 'Extra Item']\n"
          ],
          "name": "stdout"
        },
        {
          "output_type": "error",
          "ename": "ValueError",
          "evalue": "ignored",
          "traceback": [
            "\u001b[0;31m---------------------------------------------------------------------------\u001b[0m",
            "\u001b[0;31mValueError\u001b[0m                                Traceback (most recent call last)",
            "\u001b[0;32m<ipython-input-18-62796600f273>\u001b[0m in \u001b[0;36m<module>\u001b[0;34m()\u001b[0m\n\u001b[1;32m     22\u001b[0m \u001b[0mprint\u001b[0m\u001b[0;34m(\u001b[0m\u001b[0mexample_list\u001b[0m\u001b[0;34m)\u001b[0m\u001b[0;34m\u001b[0m\u001b[0;34m\u001b[0m\u001b[0m\n\u001b[1;32m     23\u001b[0m \u001b[0;34m\u001b[0m\u001b[0m\n\u001b[0;32m---> 24\u001b[0;31m \u001b[0mexample_list\u001b[0m\u001b[0;34m.\u001b[0m\u001b[0mremove\u001b[0m\u001b[0;34m(\u001b[0m\u001b[0;34m\"Last Item\"\u001b[0m\u001b[0;34m)\u001b[0m\u001b[0;34m\u001b[0m\u001b[0;34m\u001b[0m\u001b[0m\n\u001b[0m",
            "\u001b[0;31mValueError\u001b[0m: list.remove(x): x not in list"
          ]
        }
      ]
    },
    {
      "cell_type": "code",
      "metadata": {
        "id": "ovwi94v3kFRx",
        "colab_type": "code",
        "colab": {
          "base_uri": "https://localhost:8080/",
          "height": 51
        },
        "outputId": "e92d5858-efe5-429a-da7e-e67c1a040739"
      },
      "source": [
        "# Another way is to use the inbuilt delete function\n",
        "# But instead of passing the value of the item to be deleted\n",
        "# You pass in the index of the item to be deleted\n",
        "\n",
        "print(example_list)\n",
        "\n",
        "del example_list[-1]\n",
        "\n",
        "print(example_list)"
      ],
      "execution_count": 19,
      "outputs": [
        {
          "output_type": "stream",
          "text": [
            "['Item before First Item', 'First Item is Gone?', 'Second Item', 'Third Item', 'Extra Item']\n",
            "['Item before First Item', 'First Item is Gone?', 'Second Item', 'Third Item']\n"
          ],
          "name": "stdout"
        }
      ]
    },
    {
      "cell_type": "code",
      "metadata": {
        "id": "uiqwMHOnj8sq",
        "colab_type": "code",
        "colab": {
          "base_uri": "https://localhost:8080/",
          "height": 68
        },
        "outputId": "c5ebb467-dc8e-4ed2-c934-e92a3e903f24"
      },
      "source": [
        "# You can also use pop to remove an item from a list\n",
        "\n",
        "print(example_list)\n",
        "\n",
        "removed_item = example_list.pop()\n",
        "\n",
        "print(example_list)\n",
        "\n",
        "# Difference between remove and pop is that pop by default works on\n",
        "# the last item, and will return the \"popped\" item as outcome\n",
        "\n",
        "print(\"The removed item is\", removed_item)"
      ],
      "execution_count": 20,
      "outputs": [
        {
          "output_type": "stream",
          "text": [
            "['Item before First Item', 'First Item is Gone?', 'Second Item', 'Third Item']\n",
            "['Item before First Item', 'First Item is Gone?', 'Second Item']\n",
            "The removed item is Third Item\n"
          ],
          "name": "stdout"
        }
      ]
    },
    {
      "cell_type": "markdown",
      "metadata": {
        "id": "T4k-N7G1tJ0I",
        "colab_type": "text"
      },
      "source": [
        "## Concatenation aka joining two lists together"
      ]
    },
    {
      "cell_type": "code",
      "metadata": {
        "id": "nE4w5X6NtNsC",
        "colab_type": "code",
        "colab": {
          "base_uri": "https://localhost:8080/",
          "height": 215
        },
        "outputId": "3eea1a4a-60a0-4b90-8104-a64a8cc4a142"
      },
      "source": [
        "list_one = \"This is the first half\".split()\n",
        "list_two = \"and this is the second\".split()\n",
        "\n",
        "# Python over-rided the plus operator and allowed it to link two lists\n",
        "\n",
        "list_all = list_one + list_two\n",
        "print(list_all)\n",
        "\n",
        "# Note that this won't work if one of them isn't a list\n",
        "\n",
        "list_one + 1"
      ],
      "execution_count": 29,
      "outputs": [
        {
          "output_type": "stream",
          "text": [
            "['This', 'is', 'the', 'first', 'half', 'and', 'this', 'is', 'the', 'second']\n"
          ],
          "name": "stdout"
        },
        {
          "output_type": "error",
          "ename": "TypeError",
          "evalue": "ignored",
          "traceback": [
            "\u001b[0;31m---------------------------------------------------------------------------\u001b[0m",
            "\u001b[0;31mTypeError\u001b[0m                                 Traceback (most recent call last)",
            "\u001b[0;32m<ipython-input-29-6b05ee29f1c0>\u001b[0m in \u001b[0;36m<module>\u001b[0;34m()\u001b[0m\n\u001b[1;32m      9\u001b[0m \u001b[0;31m# Note that this won't work if one of them isn't a list\u001b[0m\u001b[0;34m\u001b[0m\u001b[0;34m\u001b[0m\u001b[0;34m\u001b[0m\u001b[0m\n\u001b[1;32m     10\u001b[0m \u001b[0;34m\u001b[0m\u001b[0m\n\u001b[0;32m---> 11\u001b[0;31m \u001b[0mlist_one\u001b[0m \u001b[0;34m+\u001b[0m \u001b[0;36m1\u001b[0m\u001b[0;34m\u001b[0m\u001b[0;34m\u001b[0m\u001b[0m\n\u001b[0m",
            "\u001b[0;31mTypeError\u001b[0m: can only concatenate list (not \"int\") to list"
          ]
        }
      ]
    },
    {
      "cell_type": "code",
      "metadata": {
        "id": "LSwKmYpAt8Q0",
        "colab_type": "code",
        "colab": {
          "base_uri": "https://localhost:8080/",
          "height": 34
        },
        "outputId": "c5970691-6723-4cca-94e9-221e7d40c9f4"
      },
      "source": [
        "# Also note that you should not use append for concatenation\n",
        "\n",
        "# Because it would attach the WHOLE LIST AS ONE ITEM IN ITSELF\n",
        "\n",
        "list_one = \"This is the first half\".split()\n",
        "list_two = \"and this is the second\".split()\n",
        "\n",
        "list_one.append(list_two)\n",
        "\n",
        "print(list_one)"
      ],
      "execution_count": 30,
      "outputs": [
        {
          "output_type": "stream",
          "text": [
            "['This', 'is', 'the', 'first', 'half', ['and', 'this', 'is', 'the', 'second']]\n"
          ],
          "name": "stdout"
        }
      ]
    },
    {
      "cell_type": "markdown",
      "metadata": {
        "id": "2GBB2ogMmsr5",
        "colab_type": "text"
      },
      "source": [
        "# Difference between lists, sets, dictionaries, tuples"
      ]
    },
    {
      "cell_type": "code",
      "metadata": {
        "id": "syg5iJkClL80",
        "colab_type": "code",
        "colab": {
          "base_uri": "https://localhost:8080/",
          "height": 85
        },
        "outputId": "a3aba6cb-4350-4667-f3a4-a343a0ac6baf"
      },
      "source": [
        "# Redeclare example_list so we have something fresh to work with here...\n",
        "\n",
        "example_list = [\"First Item\", \"Second Item\", \"Last Item\", \"Last Item\"]\n",
        "\n",
        "# One big difference is the \"brackets\"\n",
        "\n",
        "print(\"The list uses square brackets, e.g.: \", example_list)\n",
        "\n",
        "example_tuple = tuple(example_list)\n",
        "print(\"The tuple uses parenthesis, e.g.: \", example_tuple)\n",
        "\n",
        "example_set = set(example_list)\n",
        "print(\"The set uses curly brackets, e.g.: \", example_set)\n",
        "\n",
        "# Note that the 2 x \"Last Items\" became only 1. Because sets need unique values.\n",
        "\n",
        "example_dict = dict(zip([\"One\",\"Two\",\"Three\",\"Four\"], example_list))\n",
        "print(\"The dict also uses curly brackets, e.g.: \", example_dict)\n",
        "\n",
        "# Even though they both use curly brackets, dictionaries have \"Key:Value\" format"
      ],
      "execution_count": 21,
      "outputs": [
        {
          "output_type": "stream",
          "text": [
            "The list uses square brackets, e.g.:  ['First Item', 'Second Item', 'Last Item', 'Last Item']\n",
            "The tuple uses parenthesis, e.g.:  ('First Item', 'Second Item', 'Last Item', 'Last Item')\n",
            "The set uses curly brackets, e.g.:  {'First Item', 'Last Item', 'Second Item'}\n",
            "The dict also uses curly brackets, e.g.:  {'One': 'First Item', 'Two': 'Second Item', 'Three': 'Last Item', 'Four': 'Last Item'}\n"
          ],
          "name": "stdout"
        }
      ]
    },
    {
      "cell_type": "markdown",
      "metadata": {
        "id": "OjHsfVT0pjgK",
        "colab_type": "text"
      },
      "source": [
        "## The Use Cases\n",
        "\n",
        "As a general guide,\n",
        "\n",
        "- TUPLE is helpful when you don't want to modify the data\n",
        "- SET is helpful to track Yes/No (if a value occured or not)\n",
        "- DICT is helpful to count events or when you have structured data\n",
        "\n",
        "Because tuple is basically ordered just like lists, you can index or slice tuples. But you cannot do the same for sets or dictionaries."
      ]
    },
    {
      "cell_type": "code",
      "metadata": {
        "id": "jVYYwm0-qtdd",
        "colab_type": "code",
        "colab": {
          "base_uri": "https://localhost:8080/",
          "height": 164
        },
        "outputId": "954c9669-15ec-4be4-f65f-4671406985e0"
      },
      "source": [
        "example_set[0]"
      ],
      "execution_count": 22,
      "outputs": [
        {
          "output_type": "error",
          "ename": "TypeError",
          "evalue": "ignored",
          "traceback": [
            "\u001b[0;31m---------------------------------------------------------------------------\u001b[0m",
            "\u001b[0;31mTypeError\u001b[0m                                 Traceback (most recent call last)",
            "\u001b[0;32m<ipython-input-22-ef8c89818ed8>\u001b[0m in \u001b[0;36m<module>\u001b[0;34m()\u001b[0m\n\u001b[0;32m----> 1\u001b[0;31m \u001b[0mexample_set\u001b[0m\u001b[0;34m[\u001b[0m\u001b[0;36m0\u001b[0m\u001b[0;34m]\u001b[0m\u001b[0;34m\u001b[0m\u001b[0;34m\u001b[0m\u001b[0m\n\u001b[0m",
            "\u001b[0;31mTypeError\u001b[0m: 'set' object does not support indexing"
          ]
        }
      ]
    },
    {
      "cell_type": "code",
      "metadata": {
        "id": "ZA4mXxRdqwbk",
        "colab_type": "code",
        "colab": {
          "base_uri": "https://localhost:8080/",
          "height": 215
        },
        "outputId": "1ef14750-8f8e-4a13-eccb-bf606980ddf4"
      },
      "source": [
        "print(example_dict[\"One\"])\n",
        "\n",
        "example_dict[1]"
      ],
      "execution_count": 23,
      "outputs": [
        {
          "output_type": "stream",
          "text": [
            "First Item\n"
          ],
          "name": "stdout"
        },
        {
          "output_type": "error",
          "ename": "KeyError",
          "evalue": "ignored",
          "traceback": [
            "\u001b[0;31m---------------------------------------------------------------------------\u001b[0m",
            "\u001b[0;31mKeyError\u001b[0m                                  Traceback (most recent call last)",
            "\u001b[0;32m<ipython-input-23-9d2427061b84>\u001b[0m in \u001b[0;36m<module>\u001b[0;34m()\u001b[0m\n\u001b[1;32m      1\u001b[0m \u001b[0mprint\u001b[0m\u001b[0;34m(\u001b[0m\u001b[0mexample_dict\u001b[0m\u001b[0;34m[\u001b[0m\u001b[0;34m\"One\"\u001b[0m\u001b[0;34m]\u001b[0m\u001b[0;34m)\u001b[0m\u001b[0;34m\u001b[0m\u001b[0;34m\u001b[0m\u001b[0m\n\u001b[1;32m      2\u001b[0m \u001b[0;34m\u001b[0m\u001b[0m\n\u001b[0;32m----> 3\u001b[0;31m \u001b[0mexample_dict\u001b[0m\u001b[0;34m[\u001b[0m\u001b[0;36m1\u001b[0m\u001b[0;34m]\u001b[0m\u001b[0;34m\u001b[0m\u001b[0;34m\u001b[0m\u001b[0m\n\u001b[0m",
            "\u001b[0;31mKeyError\u001b[0m: 1"
          ]
        }
      ]
    }
  ]
}