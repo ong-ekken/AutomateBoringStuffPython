{
  "nbformat": 4,
  "nbformat_minor": 0,
  "metadata": {
    "colab": {
      "name": "16A CSV.ipynb",
      "provenance": [],
      "collapsed_sections": [],
      "toc_visible": true,
      "authorship_tag": "ABX9TyOo5KrAeNT/y4oIGZ6qK6uF",
      "include_colab_link": true
    },
    "kernelspec": {
      "name": "python3",
      "display_name": "Python 3"
    }
  },
  "cells": [
    {
      "cell_type": "markdown",
      "metadata": {
        "id": "view-in-github",
        "colab_type": "text"
      },
      "source": [
        "<a href=\"https://colab.research.google.com/github/yuhchian/AutomateBoringStuffPython/blob/master/16A_CSV.ipynb\" target=\"_parent\"><img src=\"https://colab.research.google.com/assets/colab-badge.svg\" alt=\"Open In Colab\"/></a>"
      ]
    },
    {
      "cell_type": "markdown",
      "metadata": {
        "id": "c4GqfkTg8wTg",
        "colab_type": "text"
      },
      "source": [
        "# AUTOMATE THE BORING STUFF WITH PYTHON \n",
        "\n",
        "## WORKING WITH CSV \n",
        "\n",
        "In this notebook, we are working with data that came with Colaboratory instead of the example files from the Book, because it's less trouble than if we try to import the files into the Colaboratory data folder."
      ]
    },
    {
      "cell_type": "markdown",
      "metadata": {
        "id": "Net7VrnyU45v",
        "colab_type": "text"
      },
      "source": [
        "# Fundamentals"
      ]
    },
    {
      "cell_type": "markdown",
      "metadata": {
        "id": "kbXSwIue9OYr",
        "colab_type": "text"
      },
      "source": [
        "## \"What is CSV?\"\n",
        "\n",
        "CSV stands for Comma Separated Values. \n",
        "They are simple files, i.e. lack features of xlsx:\n",
        "* Don’t have types for their values—everything is a string\n",
        "* Don’t have settings for font size or color\n",
        "* Don’t have multiple worksheets\n",
        "* Can’t specify cell widths and heights\n",
        "* Can’t have merged cells\n",
        "* Can’t have images or charts embedded in them"
      ]
    },
    {
      "cell_type": "markdown",
      "metadata": {
        "id": "IAP6aLSD20ZK",
        "colab_type": "text"
      },
      "source": [
        "## \"Why should we use \\#import CSV?\"\n",
        "\n",
        "- CSV files are text files, and can be read as a string (Chapter 9) which we can extract comma-separated values by calling split(',') on each line\n",
        "- BUT: \n",
        "    - not every comma in a CSV file represents the boundary between two cells\n",
        "    - CSV files have their own set of escape characters \n",
        "    - Why? to allow commas (and other char) to be included as values \n",
        "    - split() method doesn’t handle these escape characters"
      ]
    },
    {
      "cell_type": "markdown",
      "metadata": {
        "id": "osp0ovQmVFSm",
        "colab_type": "text"
      },
      "source": [
        "# How to Read from CSV files"
      ]
    },
    {
      "cell_type": "markdown",
      "metadata": {
        "id": "cE_pBoCz2VP9",
        "colab_type": "text"
      },
      "source": [
        "## \"How should we extract the values from CSV?\""
      ]
    },
    {
      "cell_type": "code",
      "metadata": {
        "id": "HkwDDEbx4YeA",
        "colab_type": "code",
        "colab": {
          "base_uri": "https://localhost:8080/",
          "height": 156
        },
        "outputId": "a8ba5459-dcf1-44b7-9169-41f448ce29fe"
      },
      "source": [
        "import csv      # part of Python standard library, no install required\n",
        "\n",
        "# Opening the file in 'r' mode, which means 'read'\n",
        "csv_handle = open(\"/content/sample_data/california_housing_test.csv\", \"r\")  \n",
        "print(\"Output of csv_holder: \", csv_handle)\n",
        "\n",
        "# Reading the file using CSV library's reader function\n",
        "csv_read = csv.reader(csv_handle)       # instead of the read() or readlines()\n",
        "print(\"\\nOutput of csv_read: \", csv_read)\n",
        "\n",
        "# Converting to a Python list\n",
        "csv_list = list(csv_read)       # this step loads the data into memory\n",
        "print(\"\\nOutput of csv_list: \", csv_list[:10])\n",
        "\n",
        "# Getting the value from Row 2 Col 3\n",
        "row = 1\n",
        "col = 3\n",
        "print(f\"\\nValue from row {row} col {col}, i.e. csv_list[{row-1}][{col-1}] : \", \\\n",
        "      csv_list[row-1][col-1])  # count from Zero!"
      ],
      "execution_count": 2,
      "outputs": [
        {
          "output_type": "stream",
          "text": [
            "Output of csv_holder:  <_io.TextIOWrapper name='/content/sample_data/california_housing_test.csv' mode='r' encoding='UTF-8'>\n",
            "\n",
            "Output of csv_read:  <_csv.reader object at 0x7fd6450c7cf8>\n",
            "\n",
            "Output of csv_list:  [['longitude', 'latitude', 'housing_median_age', 'total_rooms', 'total_bedrooms', 'population', 'households', 'median_income', 'median_house_value'], ['-122.050000', '37.370000', '27.000000', '3885.000000', '661.000000', '1537.000000', '606.000000', '6.608500', '344700.000000'], ['-118.300000', '34.260000', '43.000000', '1510.000000', '310.000000', '809.000000', '277.000000', '3.599000', '176500.000000'], ['-117.810000', '33.780000', '27.000000', '3589.000000', '507.000000', '1484.000000', '495.000000', '5.793400', '270500.000000'], ['-118.360000', '33.820000', '28.000000', '67.000000', '15.000000', '49.000000', '11.000000', '6.135900', '330000.000000'], ['-119.670000', '36.330000', '19.000000', '1241.000000', '244.000000', '850.000000', '237.000000', '2.937500', '81700.000000'], ['-119.560000', '36.510000', '37.000000', '1018.000000', '213.000000', '663.000000', '204.000000', '1.663500', '67000.000000'], ['-121.430000', '38.630000', '43.000000', '1009.000000', '225.000000', '604.000000', '218.000000', '1.664100', '67000.000000'], ['-120.650000', '35.480000', '19.000000', '2310.000000', '471.000000', '1341.000000', '441.000000', '3.225000', '166900.000000'], ['-122.840000', '38.400000', '15.000000', '3080.000000', '617.000000', '1446.000000', '599.000000', '3.669600', '194400.000000']]\n",
            "\n",
            "Value from row 1 col 3, i.e. csv_list[0][2] :  housing_median_age\n"
          ],
          "name": "stdout"
        }
      ]
    },
    {
      "cell_type": "markdown",
      "metadata": {
        "id": "Dmhlq9aR5bR5",
        "colab_type": "text"
      },
      "source": [
        "## What if the CSV is too large and overloads my system?\n",
        "\n",
        "- Some Kaggle datasets are more than 10-20 GB worth of CSV.\n",
        "- We read the data line by line, and loop through"
      ]
    },
    {
      "cell_type": "code",
      "metadata": {
        "id": "ZcsQK-w77lAi",
        "colab_type": "code",
        "colab": {}
      },
      "source": [
        "import csv      \n",
        "# once again, we don't actually have to import csv in every cell as long as you \n",
        "# ran it once... but just in case you're running this cell only\n",
        "\n",
        "# Opening the file\n",
        "csv_handle2 = open(\"/content/sample_data/california_housing_test.csv\", \"r\")\n",
        "print(\"Output of csv_holder: \", csv_handle2)\n",
        "\n",
        "# Reading the file using CSV library's reader function\n",
        "csv_read2 = csv.reader(csv_handle2)       # instead of the read() or readlines()\n",
        "print(\"\\nOutput of csv_read: \", csv_read2)\n",
        "\n",
        "# This part onwards is different if your CSV is too large\n",
        "for line in csv_read2:\n",
        "    print(line)"
      ],
      "execution_count": null,
      "outputs": []
    },
    {
      "cell_type": "markdown",
      "metadata": {
        "id": "RFjJzpJxVLXJ",
        "colab_type": "text"
      },
      "source": [
        "# How to Write to CSV files"
      ]
    },
    {
      "cell_type": "markdown",
      "metadata": {
        "id": "ETM5gwKx8WyY",
        "colab_type": "text"
      },
      "source": [
        "## How do we write to a CSV file?\n",
        "\n",
        "- call open() and pass it 'w' to open a file in write mode\n",
        "- pass this handle create the object you can then pass to csv.writer() ➋ to create a writer object.\n",
        "\n",
        "On Windows, you’ll also need to pass a blank string for the open() function’s newline keyword argument. For technical reasons beyond the scope of this book, if you forget to set the newline argument, the rows in output.csv will be double-spaced, as shown in Figure 16-1."
      ]
    },
    {
      "cell_type": "code",
      "metadata": {
        "id": "aZYO-3fb8mz4",
        "colab_type": "code",
        "colab": {
          "base_uri": "https://localhost:8080/",
          "height": 54
        },
        "outputId": "c1279b13-2783-435d-b8b8-f91976a03d5c"
      },
      "source": [
        "import csv\n",
        "# once again, we don't actually have to import csv in every cell as long as you \n",
        "# ran it once... but just in case you're running this cell only\n",
        "\n",
        "outputFile = open('output.csv', 'a+', newline='')    \n",
        "# the newline param is obligatory in Windows\n",
        "\n",
        "# Please note, I opened the file above with a 'w+' mode, which means it creates \n",
        "# the file if it doesn't exist. Opening with 'a+' mode appends the data.\n",
        "\n",
        "outputWriter = csv.writer(outputFile)\n",
        "\n",
        "outputWriter.writerow(['spam', 'eggs', 'bacon', 'ham'])\n",
        "\n",
        "outputWriter.writerow(['Hello, world!', 'eggs', 'bacon', 'ham'])\n",
        "\n",
        "outputWriter.writerow([1, 2, 3.141592, 4])\n",
        "\n",
        "outputFile.close()\n",
        "\n",
        "# one-liner to open the file as we previously learned\n",
        "readFile = list(csv.reader(open('output.csv', 'r')))    \n",
        "print(readFile)"
      ],
      "execution_count": null,
      "outputs": [
        {
          "output_type": "stream",
          "text": [
            "[['spam', 'eggs', 'bacon', 'ham'], ['Hello, world!', 'eggs', 'bacon', 'ham'], ['1', '2', '3.141592', '4'], ['spam', 'eggs', 'bacon', 'ham'], ['Hello, world!', 'eggs', 'bacon', 'ham'], ['1', '2', '3.141592', '4'], ['spam', 'eggs', 'bacon', 'ham'], ['Hello, world!', 'eggs', 'bacon', 'ham'], ['1', '2', '3.141592', '4'], ['spam', 'eggs', 'bacon', 'ham'], ['Hello, world!', 'eggs', 'bacon', 'ham'], ['1', '2', '3.141592', '4']]\n"
          ],
          "name": "stdout"
        }
      ]
    },
    {
      "cell_type": "markdown",
      "metadata": {
        "id": "0m_qbmJUE6Wv",
        "colab_type": "text"
      },
      "source": [
        "## What if I don't want to use Commas to separate my values when writing?\n",
        "\n",
        "- you want to separate cells with a tab character instead of a comma \n",
        "- you want the rows to be double-spaced\n",
        "\n",
        "feed the csv.writer function with parameters \n",
        "\n",
        "```\n",
        "csvWriter = csv.writer(csvFile, delimiter='\\t', lineterminator='\\n\\n')\n",
        "csvWriter.writerow( ...\n",
        "```\n",
        "\n",
        "and you can call it .tsv to represent 'tab separated values'\n",
        "\n"
      ]
    },
    {
      "cell_type": "markdown",
      "metadata": {
        "id": "Utm49hPGVRF1",
        "colab_type": "text"
      },
      "source": [
        "# Working with Header Rows"
      ]
    },
    {
      "cell_type": "code",
      "metadata": {
        "id": "b8S6f9t2E6zh",
        "colab_type": "code",
        "colab": {
          "base_uri": "https://localhost:8080/",
          "height": 34
        },
        "outputId": "927241e0-2c71-4d2d-9681-5a07c6da19ec"
      },
      "source": [
        "import csv\n",
        "# once again, we don't actually have to import csv in every cell as long as you \n",
        "# ran it once... but just in case you're running this cell only\n",
        "\n",
        "# remember to use 'w+' if you want to create the file if not found\n",
        "csvFile = open('output.tsv', 'w+', newline='')\n",
        "\n",
        "csvWriter = csv.writer(csvFile, delimiter='\\t', lineterminator='\\n\\n')\n",
        "\n",
        "csvWriter.writerow(['apples', 'oranges', 'grapes'])\n",
        "csvWriter.writerow(['eggs', 'bacon', 'ham'])\n",
        "csvWriter.writerow(['spam', 'spam', 'spam', 'spam', 'spam', 'spam'])\n",
        "\n",
        "csvFile.close()\n",
        "\n",
        "# one-liner to open the file as we previously learned\n",
        "readFile = list(csv.reader(open('output.tsv', 'r')))\n",
        "print(readFile)"
      ],
      "execution_count": null,
      "outputs": [
        {
          "output_type": "stream",
          "text": [
            "[['apples\\toranges\\tgrapes'], [], ['eggs\\tbacon\\tham'], [], ['spam\\tspam\\tspam\\tspam\\tspam\\tspam'], []]\n"
          ],
          "name": "stdout"
        }
      ]
    },
    {
      "cell_type": "markdown",
      "metadata": {
        "id": "siPHA2iPH05m",
        "colab_type": "text"
      },
      "source": [
        "## How can we keep data nicely aligned with headers so we don't make mistakes while working with row and col numbers?\n",
        "\n",
        "- CSV files that contain header rows\n",
        "- more convenient to work with the DictReader and DictWriter objects, rather than the reader and writer objects.\n",
        "- DictReader and DictWriter use dictionaries instead of lists\n",
        "- inside the loop, DictReader object sets row to a dictionary object with keys derived from the headers in the first row. \n",
        "- BUT if you don't have headers in the first row, the DictReader object would use first row values as headers. To avoid this, you can supply the DictReader() function with a second argument containing header names"
      ]
    },
    {
      "cell_type": "code",
      "metadata": {
        "id": "hFVPZb0PH2-3",
        "colab_type": "code",
        "colab": {
          "base_uri": "https://localhost:8080/",
          "height": 374
        },
        "outputId": "3f0a0236-6418-4885-d9a1-943ceacfba4d"
      },
      "source": [
        "import csv\n",
        "# once again, we don't actually have to import csv in every cell as long as you \n",
        "# ran it once... but just in case you're running this cell only\n",
        "\n",
        "exampleFile = open('/content/sample_data/california_housing_test.csv', 'r')\n",
        "\n",
        "exampleDictReader = csv.DictReader(exampleFile)\n",
        "\n",
        "for row in exampleDictReader:\n",
        "    print(\"Median Age:\", int(float(row['housing_median_age'])), \\\n",
        "          \"Median Value:\", int(float(row['median_house_value'])), \\\n",
        "          \"Population:\", int(float(row['population'])))\n",
        "    # just putting in a stop here so we don't have a super long print\n",
        "    if float(row['housing_median_age']) <= 15: break\n",
        "\n",
        "print(\"\\n -----------Separator---------- \\n\")\n",
        "\n",
        "# TRY UNCOMMENTING THE FOLLOWING TWO LINES OF CODE AND COMPARE THE RESULTS\n",
        "exampleFile.close()\n",
        "exampleFile = open('/content/sample_data/california_housing_test.csv', 'r')\n",
        "\n",
        "\n",
        "# Input your own header row if the data doesn't have it\n",
        "\n",
        "exampleDictReader_override = csv.DictReader(exampleFile, ['var_0', \\\n",
        "                                                          'var_1', \\\n",
        "                                                          'var_2', \\\n",
        "                                                          'var_3', \\\n",
        "                                                          'var_4', \\\n",
        "                                                          'var_5', \\\n",
        "                                                          'var_6', \\\n",
        "                                                          'var_7', \\\n",
        "                                                          'var_8'])\n",
        "\n",
        "for row in exampleDictReader_override:\n",
        "    # when header text is present, error when converting them to numbers\n",
        "    try:        \n",
        "        print(\"Median Age:\", int(float(row['var_2'])), \\\n",
        "              \"Median Value:\", int(float(row['var_8'])), \\\n",
        "              \"Population:\", int(float(row['var_5'])))\n",
        "        # just putting in a stop here so we don't have a super long print\n",
        "        if float(row['var_2']) <= 15: break     \n",
        "    except:\n",
        "        continue\n"
      ],
      "execution_count": null,
      "outputs": [
        {
          "output_type": "stream",
          "text": [
            "Median Age: 27 Median Value: 344700 Population: 1537\n",
            "Median Age: 43 Median Value: 176500 Population: 809\n",
            "Median Age: 27 Median Value: 270500 Population: 1484\n",
            "Median Age: 28 Median Value: 330000 Population: 49\n",
            "Median Age: 19 Median Value: 81700 Population: 850\n",
            "Median Age: 37 Median Value: 67000 Population: 663\n",
            "Median Age: 43 Median Value: 67000 Population: 604\n",
            "Median Age: 19 Median Value: 166900 Population: 1341\n",
            "Median Age: 15 Median Value: 194400 Population: 1446\n",
            "\n",
            " -----------Separator---------- \n",
            "\n",
            "Median Age: 27 Median Value: 344700 Population: 1537\n",
            "Median Age: 43 Median Value: 176500 Population: 809\n",
            "Median Age: 27 Median Value: 270500 Population: 1484\n",
            "Median Age: 28 Median Value: 330000 Population: 49\n",
            "Median Age: 19 Median Value: 81700 Population: 850\n",
            "Median Age: 37 Median Value: 67000 Population: 663\n",
            "Median Age: 43 Median Value: 67000 Population: 604\n",
            "Median Age: 19 Median Value: 166900 Population: 1341\n",
            "Median Age: 15 Median Value: 194400 Population: 1446\n"
          ],
          "name": "stdout"
        }
      ]
    },
    {
      "cell_type": "markdown",
      "metadata": {
        "id": "vtByFY6JPmpg",
        "colab_type": "text"
      },
      "source": [
        "## How do I write Header rows in my CSV?"
      ]
    },
    {
      "cell_type": "code",
      "metadata": {
        "id": "YqTiezKFPmV9",
        "colab_type": "code",
        "colab": {
          "base_uri": "https://localhost:8080/",
          "height": 68
        },
        "outputId": "e055564a-e5fc-485b-fa95-90b44a117246"
      },
      "source": [
        "import csv\n",
        "# once again, we don't actually have to import csv in every cell as long as you \n",
        "# ran it once... but just in case you're running this cell only\n",
        "\n",
        "outputFile = open('output.csv', 'w+', newline='')\n",
        "\n",
        "outputDictWriter = csv.DictWriter(outputFile, ['Name', 'Pet', 'Phone'])\n",
        "\n",
        "outputDictWriter.writeheader()      \n",
        "# This will write whatever headers you declared in the above line\n",
        "\n",
        "outputDictWriter.writerow({'Name': 'Alice', 'Pet': 'cat', 'Phone': '555-1234'})\n",
        "outputDictWriter.writerow({'Name': 'Bob', 'Phone': '555-9999'})\n",
        "outputDictWriter.writerow({'Phone': '555-5555', 'Name': 'Carol', 'Pet': 'dog'})\n",
        "outputFile.close()\n",
        "\n",
        "outputFile = open('output.csv', 'r')\n",
        "exampleDictReader = csv.DictReader(outputFile)\n",
        "\n",
        "for row in exampleDictReader:\n",
        "    print(row)"
      ],
      "execution_count": null,
      "outputs": [
        {
          "output_type": "stream",
          "text": [
            "OrderedDict([('Name', 'Alice'), ('Pet', 'cat'), ('Phone', '555-1234')])\n",
            "OrderedDict([('Name', 'Bob'), ('Pet', ''), ('Phone', '555-9999')])\n",
            "OrderedDict([('Name', 'Carol'), ('Pet', 'dog'), ('Phone', '555-5555')])\n"
          ],
          "name": "stdout"
        }
      ]
    },
    {
      "cell_type": "markdown",
      "metadata": {
        "id": "bTnMMb-EQdSF",
        "colab_type": "text"
      },
      "source": [
        "## Project: Removing the Header from CSV Files\n",
        "\n",
        "- useful only if you have many files (we will use os.listdir() )\n",
        "- open file\n",
        "- read file\n",
        "- rewrite file\n",
        "- close file"
      ]
    },
    {
      "cell_type": "code",
      "metadata": {
        "id": "euIhQ_gpQqdT",
        "colab_type": "code",
        "colab": {
          "base_uri": "https://localhost:8080/",
          "height": 51
        },
        "outputId": "f857249b-7eb0-4aaf-eb7b-c814b184e1e5"
      },
      "source": [
        "#! python3\n",
        "# removeCsvHeader.py - Removes the header from all CSV files in the current \n",
        "# working directory.\n",
        "\n",
        "import csv, os\n",
        "\n",
        "os.makedirs('headerRemoved', exist_ok=True)\n",
        "\n",
        "# Loop through every file in the current working directory.\n",
        "for csvFilename in os.listdir('.'):\n",
        "    if not csvFilename.endswith('.csv'):\n",
        "         continue    # skip non-csv files\n",
        "\n",
        "    print('Removing header from ' + csvFilename + '...')\n",
        "\n",
        "    # Read the CSV file in (skipping first row)\n",
        "    csvRows = []\n",
        "    csvFileObj = open(csvFilename)\n",
        "    readerObj = csv.reader(csvFileObj)\n",
        "    for row in readerObj:\n",
        "        if readerObj.line_num == 1:\n",
        "            continue    # skip first row\n",
        "        csvRows.append(row)\n",
        "    csvFileObj.close()\n",
        "\n",
        "    # Write out the CSV file.\n",
        "    csvFileObj = open(os.path.join('headerRemoved', csvFilename), \\\n",
        "                      'w', newline='')\n",
        "    csvWriter = csv.writer(csvFileObj)\n",
        "    for row in csvRows:\n",
        "        csvWriter.writerow(row)\n",
        "    csvFileObj.close()"
      ],
      "execution_count": null,
      "outputs": [
        {
          "output_type": "stream",
          "text": [
            "Removing header from output.csv...\n",
            "Removing header from exampleWithHeader.csv...\n"
          ],
          "name": "stdout"
        }
      ]
    },
    {
      "cell_type": "markdown",
      "metadata": {
        "id": "oe9dYC-wVkCy",
        "colab_type": "text"
      },
      "source": [
        "# Additional Info"
      ]
    },
    {
      "cell_type": "markdown",
      "metadata": {
        "id": "U7PLEb7iVpGb",
        "colab_type": "text"
      },
      "source": [
        "## So what really happens if we don't use CSV reader?"
      ]
    },
    {
      "cell_type": "code",
      "metadata": {
        "id": "sDTXd4WK9W9p",
        "colab_type": "code",
        "colab": {
          "base_uri": "https://localhost:8080/",
          "height": 156
        },
        "outputId": "dcfd0291-766a-42f1-d116-5b88d7565a44"
      },
      "source": [
        "import csv      # we don't actually have to import this in every cell as long as you ran it once... but just in case\n",
        "\n",
        "\n",
        "csv_handle = open(\"/content/sample_data/california_housing_test.csv\", \"r\")\n",
        "print(csv_handle)\n",
        "\n",
        "csv_read = csv_handle.read()\n",
        "print(\"\\n\", csv_read[:20])      # everything has been loaded as plain text\n",
        "\n",
        "csv_split = csv_read.split()   # the rows are split, but the values are not\n",
        "print(\"\\n\", csv_split[:20])\n",
        "\n",
        "# one-liner\n",
        "csv_directly = open(\"/content/sample_data/california_housing_test.csv\", \\\n",
        "                    \"r\").read().split()\n",
        "print(\"\\n\", csv_directly[:20])"
      ],
      "execution_count": null,
      "outputs": [
        {
          "output_type": "stream",
          "text": [
            "<_io.TextIOWrapper name='/content/sample_data/california_housing_test.csv' mode='r' encoding='UTF-8'>\n",
            "\n",
            " \"longitude\",\"latitud\n",
            "\n",
            " ['\"longitude\",\"latitude\",\"housing_median_age\",\"total_rooms\",\"total_bedrooms\",\"population\",\"households\",\"median_income\",\"median_house_value\"', '-122.050000,37.370000,27.000000,3885.000000,661.000000,1537.000000,606.000000,6.608500,344700.000000', '-118.300000,34.260000,43.000000,1510.000000,310.000000,809.000000,277.000000,3.599000,176500.000000', '-117.810000,33.780000,27.000000,3589.000000,507.000000,1484.000000,495.000000,5.793400,270500.000000', '-118.360000,33.820000,28.000000,67.000000,15.000000,49.000000,11.000000,6.135900,330000.000000', '-119.670000,36.330000,19.000000,1241.000000,244.000000,850.000000,237.000000,2.937500,81700.000000', '-119.560000,36.510000,37.000000,1018.000000,213.000000,663.000000,204.000000,1.663500,67000.000000', '-121.430000,38.630000,43.000000,1009.000000,225.000000,604.000000,218.000000,1.664100,67000.000000', '-120.650000,35.480000,19.000000,2310.000000,471.000000,1341.000000,441.000000,3.225000,166900.000000', '-122.840000,38.400000,15.000000,3080.000000,617.000000,1446.000000,599.000000,3.669600,194400.000000', '-118.020000,34.080000,31.000000,2402.000000,632.000000,2830.000000,603.000000,2.333300,164200.000000', '-118.240000,33.980000,45.000000,972.000000,249.000000,1288.000000,261.000000,2.205400,125000.000000', '-119.120000,35.850000,37.000000,736.000000,166.000000,564.000000,138.000000,2.416700,58300.000000', '-121.930000,37.250000,36.000000,1089.000000,182.000000,535.000000,170.000000,4.690000,252600.000000', '-117.030000,32.970000,16.000000,3936.000000,694.000000,1935.000000,659.000000,4.562500,231200.000000', '-117.970000,33.730000,27.000000,2097.000000,325.000000,1217.000000,331.000000,5.712100,222500.000000', '-117.990000,33.810000,42.000000,161.000000,40.000000,157.000000,50.000000,2.200000,153100.000000', '-120.810000,37.530000,15.000000,570.000000,123.000000,189.000000,107.000000,1.875000,181300.000000', '-121.200000,38.690000,26.000000,3077.000000,607.000000,1603.000000,595.000000,2.717400,137500.000000', '-118.880000,34.210000,26.000000,1590.000000,196.000000,654.000000,199.000000,6.585100,300000.000000']\n",
            "\n",
            " ['\"longitude\",\"latitude\",\"housing_median_age\",\"total_rooms\",\"total_bedrooms\",\"population\",\"households\",\"median_income\",\"median_house_value\"', '-122.050000,37.370000,27.000000,3885.000000,661.000000,1537.000000,606.000000,6.608500,344700.000000', '-118.300000,34.260000,43.000000,1510.000000,310.000000,809.000000,277.000000,3.599000,176500.000000', '-117.810000,33.780000,27.000000,3589.000000,507.000000,1484.000000,495.000000,5.793400,270500.000000', '-118.360000,33.820000,28.000000,67.000000,15.000000,49.000000,11.000000,6.135900,330000.000000', '-119.670000,36.330000,19.000000,1241.000000,244.000000,850.000000,237.000000,2.937500,81700.000000', '-119.560000,36.510000,37.000000,1018.000000,213.000000,663.000000,204.000000,1.663500,67000.000000', '-121.430000,38.630000,43.000000,1009.000000,225.000000,604.000000,218.000000,1.664100,67000.000000', '-120.650000,35.480000,19.000000,2310.000000,471.000000,1341.000000,441.000000,3.225000,166900.000000', '-122.840000,38.400000,15.000000,3080.000000,617.000000,1446.000000,599.000000,3.669600,194400.000000', '-118.020000,34.080000,31.000000,2402.000000,632.000000,2830.000000,603.000000,2.333300,164200.000000', '-118.240000,33.980000,45.000000,972.000000,249.000000,1288.000000,261.000000,2.205400,125000.000000', '-119.120000,35.850000,37.000000,736.000000,166.000000,564.000000,138.000000,2.416700,58300.000000', '-121.930000,37.250000,36.000000,1089.000000,182.000000,535.000000,170.000000,4.690000,252600.000000', '-117.030000,32.970000,16.000000,3936.000000,694.000000,1935.000000,659.000000,4.562500,231200.000000', '-117.970000,33.730000,27.000000,2097.000000,325.000000,1217.000000,331.000000,5.712100,222500.000000', '-117.990000,33.810000,42.000000,161.000000,40.000000,157.000000,50.000000,2.200000,153100.000000', '-120.810000,37.530000,15.000000,570.000000,123.000000,189.000000,107.000000,1.875000,181300.000000', '-121.200000,38.690000,26.000000,3077.000000,607.000000,1603.000000,595.000000,2.717400,137500.000000', '-118.880000,34.210000,26.000000,1590.000000,196.000000,654.000000,199.000000,6.585100,300000.000000']\n"
          ],
          "name": "stdout"
        }
      ]
    }
  ]
}